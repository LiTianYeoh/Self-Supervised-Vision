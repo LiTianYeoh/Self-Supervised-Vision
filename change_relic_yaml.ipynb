{
 "cells": [
  {
   "cell_type": "markdown",
   "metadata": {},
   "source": [
    "# Get path to yaml"
   ]
  },
  {
   "cell_type": "code",
   "execution_count": 11,
   "metadata": {},
   "outputs": [
    {
     "name": "stdout",
     "output_type": "stream",
     "text": [
      "/home/yeohlt/2_SSL_project/code/Self-Supervised-Vision/configs/relic.yaml\n"
     ]
    }
   ],
   "source": [
    "import os\n",
    "main_dir=os.getcwd()\n",
    "\n",
    "relic_yaml_rel_path=\"configs/relic.yaml\"\n",
    "relic_yaml_path=os.path.join(main_dir,relic_yaml_rel_path)\n",
    "\n",
    "print(relic_yaml_path)"
   ]
  },
  {
   "cell_type": "markdown",
   "metadata": {},
   "source": [
    "# Open yaml"
   ]
  },
  {
   "cell_type": "code",
   "execution_count": 12,
   "metadata": {},
   "outputs": [
    {
     "name": "stdout",
     "output_type": "stream",
     "text": [
      "['epochs', 'eval_every', 'tau', 'proj_dim', 'data', 'encoder', 'optimizer', 'scheduler', 'loss_fn', 'linear_eval', 'wandb']\n",
      "{'epochs': 1000, 'eval_every': 10, 'tau': 0.996, 'proj_dim': 128, 'data': {'dataset_name': 'cifar10', 'root': 'data/cifar10', 'batch_size': 512, 'transforms': {'train': {'color_jitter': {'brightness': 0.4, 'contrast': 0.4, 'saturation': 0.4, 'hue': 0.1, 'apply_prob': 0.8}, 'random_gray': {'p': 0.2}, 'random_resized_crop': {'size': [32, 32], 'scale': [0.2, 1.0]}, 'random_flip': None, 'to_tensor': None, 'normalize': {'mean': [0.4914, 0.4822, 0.4465], 'std': [0.247, 0.2435, 0.2616]}}, 'test': {'center_crop': {'size': [32, 32]}, 'to_tensor': None, 'normalize': {'mean': [0.4914, 0.4822, 0.4465], 'std': [0.247, 0.2435, 0.2616]}}}}, 'encoder': {'reduce_bottom_conv': True}, 'optimizer': {'name': 'sgd', 'lr': 0.2, 'momentum': 0.9, 'nesterov': True, 'weight_decay': 0.0001}, 'scheduler': {'name': 'cosine', 'warmup_epochs': 10}, 'loss_fn': {'normalize': True, 'temperature': 1.0, 'alpha': 0.5}, 'linear_eval': {'epochs': 100, 'input_dim': 128, 'batch_size': 256, 'lr': 0.1}, 'wandb': {'project': 'self-supervised-vision'}}\n"
     ]
    }
   ],
   "source": [
    "import yaml\n",
    "\n",
    "conf_file = open(relic_yaml_path, \"r\")\n",
    "relic_conf = yaml.safe_load(conf_file)\n",
    "conf_file.close()\n",
    "\n",
    "print(list(relic_conf))\n",
    "print(relic_conf)"
   ]
  },
  {
   "cell_type": "markdown",
   "metadata": {},
   "source": [
    "# Change yaml content"
   ]
  },
  {
   "cell_type": "code",
   "execution_count": 14,
   "metadata": {},
   "outputs": [
    {
     "name": "stdout",
     "output_type": "stream",
     "text": [
      "{'epochs': 1000, 'eval_every': 10, 'tau': 0.996, 'proj_dim': 128, 'data': {'dataset_name': 'cifar10', 'root': 'data/cifar10', 'batch_size': 128, 'transforms': {'train': {'color_jitter': {'brightness': 0.4, 'contrast': 0.4, 'saturation': 0.4, 'hue': 0.1, 'apply_prob': 0.8}, 'random_gray': {'p': 0.2}, 'random_resized_crop': {'size': [32, 32], 'scale': [0.2, 1.0]}, 'random_flip': None, 'to_tensor': None, 'normalize': {'mean': [0.4914, 0.4822, 0.4465], 'std': [0.247, 0.2435, 0.2616]}}, 'test': {'center_crop': {'size': [32, 32]}, 'to_tensor': None, 'normalize': {'mean': [0.4914, 0.4822, 0.4465], 'std': [0.247, 0.2435, 0.2616]}}}}, 'encoder': {'reduce_bottom_conv': True}, 'optimizer': {'name': 'sgd', 'lr': 0.2, 'momentum': 0.9, 'nesterov': True, 'weight_decay': 0.0001}, 'scheduler': {'name': 'cosine', 'warmup_epochs': 10}, 'loss_fn': {'normalize': True, 'temperature': 1.0, 'alpha': 0.5}, 'linear_eval': {'epochs': 100, 'input_dim': 128, 'batch_size': 128, 'lr': 0.1}, 'wandb': {'project': 'self-supervised-vision'}}\n"
     ]
    }
   ],
   "source": [
    "relic_conf['data']['batch_size'] = 128\n",
    "relic_conf['linear_eval']['batch_size'] = 128\n",
    "print(relic_conf)"
   ]
  },
  {
   "cell_type": "markdown",
   "metadata": {},
   "source": [
    "# Save yaml"
   ]
  },
  {
   "cell_type": "code",
   "execution_count": 10,
   "metadata": {},
   "outputs": [],
   "source": [
    "outfile_path = relic_yaml_path\n",
    "outfile_file = open(outfile_path, 'w')\n",
    "yaml.dump(relic_conf, outfile_file, sort_keys=False)\n",
    "outfile_file.close()"
   ]
  }
 ],
 "metadata": {
  "kernelspec": {
   "display_name": "Python 3.10.4 64-bit",
   "language": "python",
   "name": "python3"
  },
  "language_info": {
   "codemirror_mode": {
    "name": "ipython",
    "version": 3
   },
   "file_extension": ".py",
   "mimetype": "text/x-python",
   "name": "python",
   "nbconvert_exporter": "python",
   "pygments_lexer": "ipython3",
   "version": "3.10.4"
  },
  "orig_nbformat": 4,
  "vscode": {
   "interpreter": {
    "hash": "916dbcbb3f70747c44a77c7bcd40155683ae19c65e1c03b4aa3499c5328201f1"
   }
  }
 },
 "nbformat": 4,
 "nbformat_minor": 2
}
